{
 "cells": [
  {
   "cell_type": "code",
   "execution_count": 1,
   "id": "a4bb6340-33a0-4236-a717-53e99c33a5ac",
   "metadata": {
    "tags": []
   },
   "outputs": [
    {
     "name": "stdout",
     "output_type": "stream",
     "text": [
      "CUDA is available and can be used by 4 device(s).\n",
      "Device 0 , referring to the GPU NVIDIA A100-SXM4-40GB , is in use by torch\n",
      "Device 0 , referring to the GPU NVIDIA A100-SXM4-40GB , is in use by torch\n",
      "Device 0 , referring to the GPU NVIDIA A100-SXM4-40GB , is in use by torch\n",
      "Device 0 , referring to the GPU NVIDIA A100-SXM4-40GB , is in use by torch\n"
     ]
    }
   ],
   "source": [
    "import matplotlib.pyplot as plt\n",
    "import numpy as np\n",
    "\n",
    "#import pandas as pd\n",
    "import os \n",
    "\n",
    "import h5py\n",
    "import json\n",
    "import random\n",
    "import torch\n",
    "import torch.nn as nn\n",
    "import torchvision\n",
    "import torch.nn.functional as F\n",
    "import torch.optim as optim\n",
    "import torchvision.transforms as transforms\n",
    "from torch.utils.data import TensorDataset, DataLoader\n",
    "\n",
    "from sklearn.metrics import accuracy_score, precision_score, recall_score\n",
    "from sklearn.model_selection import train_test_split\n",
    "\n",
    "resize_transform = transforms.Resize( (256, 128) )\n",
    "inverse_resize_transform = transforms.Resize( (201, 101) )\n",
    "\n",
    "if(torch.cuda.is_available()):\n",
    "    count = torch.cuda.device_count();\n",
    "    print(\"CUDA is available and can be used by\", count, \"device(s).\");\n",
    "    curr_device =  torch.cuda.current_device();\n",
    "    for i in range(count):\n",
    "        curr_device_name = torch.cuda.get_device_name(i);\n",
    "        print(\"Device\",curr_device, \", referring to the GPU\", curr_device_name, \", is in use by torch\");\n",
    "        \n",
    "else:\n",
    "    print(\"CUDA is unavailable\");"
   ]
  },
  {
   "cell_type": "code",
   "execution_count": 2,
   "id": "eee48f56-f2c7-48ed-a6db-a72c0cab010d",
   "metadata": {
    "tags": []
   },
   "outputs": [],
   "source": [
    "tracking_results_direc = '/global/cfs/cdirs/m669/riverr/2DCSR/results_lucretia_beams/' ## directory containing CSR wakefields \n",
    "vary_s_results_direc = '/global/cfs/cdirs/m669/riverr/2DCSR/check_wake_s_dependence/'\n",
    "beam_direc= '/global/cfs/cdirs/m669/riverr/2DCSR/lucretia_beams/' ## directory containing beams used to calculate CSR wakefields "
   ]
  },
  {
   "cell_type": "code",
   "execution_count": 3,
   "id": "ba922106-74d0-4777-a417-e34247a50566",
   "metadata": {
    "tags": []
   },
   "outputs": [],
   "source": [
    "def load_step(file, n_step, directory = tracking_results_direc, emit = False): # load one step from a simulation file \n",
    "    file_name = directory + f'/{file}';#f'2DCSR_NN_lucretia/{file}'\n",
    "    #print(file_name)\n",
    "    h5 = h5py.File(file_name, 'r');\n",
    "    result = h5['csr_result'];\n",
    "    #print(result.keys())\n",
    "    nz, nx = result[\"Ws_grid_list\"][n_step].T.shape ## number of grid points in z and x for wakes \n",
    "    nz_cg, nx_cg = result[\"lambda_grid_list\"][n_step].T.shape ## number of grid points in z and x for beam density \n",
    "    ## lambda and rho both refer to beam density\n",
    "    zmin = result[\"zmin_list\"][n_step]; ## minimum z coordinate\n",
    "    zmax = result[\"zmax_list\"][n_step];\n",
    "    xmin = result[\"xmin_list\"][n_step];\n",
    "    xmax = result[\"xmax_list\"][n_step];\n",
    "\n",
    "    zv = np.linspace(zmin, zmax, nz);\n",
    "    xv = np.linspace(xmin, xmax, nx);\n",
    "\n",
    "    zv_cg = np.linspace(zmin, zmax, nz_cg);\n",
    "    xv_cg = np.linspace(xmin, xmax, nx_cg);\n",
    "\n",
    "    Ws_grid = result[\"Ws_grid_list\"][n_step].T;\n",
    "    Wx_grid = result[\"Wx_grid_list\"][n_step].T;\n",
    "    lambda_grid = result[\"lambda_grid_list\"][n_step].T;\n",
    "\n",
    "    s = np.array(result[\"s_at_kick_list\"])[n_step];\n",
    "    if emit:\n",
    "        epsx = np.array(result[\"emit_at_kick_list\"])[n_step];\n",
    "        epsx_0 = np.array(result[\"emit_disp_free_at_kick_list\"])[n_step];\n",
    "        return xv, zv, Ws_grid, Wx_grid, lambda_grid, s, epsx, epsx_0 ;\n",
    "    else:\n",
    "        \n",
    "        return xv, zv, Ws_grid, Wx_grid, lambda_grid, s;"
   ]
  },
  {
   "cell_type": "code",
   "execution_count": null,
   "id": "afc78914-2c5f-4e80-b175-4649596a8d07",
   "metadata": {},
   "outputs": [],
   "source": []
  },
  {
   "cell_type": "markdown",
   "id": "6a744be5-ac5f-42ee-ac7a-fabebd778656",
   "metadata": {},
   "source": [
    "## Here we will choose the phases we exclude from training"
   ]
  },
  {
   "cell_type": "code",
   "execution_count": 4,
   "id": "a3c50c34-11ae-4e45-aee7-2ad9524ac1d8",
   "metadata": {
    "tags": []
   },
   "outputs": [],
   "source": [
    "L2_phases = []\n",
    "for j, file in enumerate(os.listdir(tracking_results_direc)):\n",
    "    if file.startswith('result'):\n",
    "        ind_0 = file.find(\"P2\");\n",
    "        ind_1 = file.find(\".h\");\n",
    "        L2_phase = file[ind_0+3: ind_1];\n",
    "        L2_phases.append(float(L2_phase));\n",
    "L2_phases.sort()\n",
    "\n",
    "excluded_phases = [L2_phases[i] for i in range(2,5)];\n",
    "excluded_phases += ([L2_phases[i] for i in range(-3,0)]);   \n",
    "excluded_phases;"
   ]
  },
  {
   "cell_type": "code",
   "execution_count": null,
   "id": "b6d82ee9-88f8-4908-a3a8-a8673ec22282",
   "metadata": {
    "tags": []
   },
   "outputs": [],
   "source": []
  },
  {
   "cell_type": "code",
   "execution_count": 5,
   "id": "9588c9d9-adc4-4b1c-9215-60f58e9d5ac8",
   "metadata": {
    "scrolled": true,
    "tags": []
   },
   "outputs": [
    {
     "name": "stdout",
     "output_type": "stream",
     "text": [
      "Not training on  -38.9\n",
      "Not training on  -38.95\n",
      "Not training on  -37.55\n",
      "Not training on  -37.525\n",
      "Not training on  -38.925\n",
      "Not training on  -37.5\n",
      "Done loading in data\n",
      "Successfully saved our normalizations\n"
     ]
    },
    {
     "ename": "NameError",
     "evalue": "name 'Ws_test' is not defined",
     "output_type": "error",
     "traceback": [
      "\u001b[0;31m---------------------------------------------------------------------------\u001b[0m",
      "\u001b[0;31mNameError\u001b[0m                                 Traceback (most recent call last)",
      "File \u001b[0;32m<timed exec>:96\u001b[0m\n",
      "\u001b[0;31mNameError\u001b[0m: name 'Ws_test' is not defined"
     ]
    }
   ],
   "source": [
    "%%time\n",
    "\n",
    "ns = np.arange(20) # 20 steps per simulation \n",
    "\n",
    "for j, file in enumerate(os.listdir(tracking_results_direc)):\n",
    "    if file.startswith('result'):\n",
    "        ind_0 = file.find(\"P2\");\n",
    "        ind_1 = file.find(\".h\");\n",
    "        L2_phase = float(file[ind_0+3: ind_1]);\n",
    "        if(L2_phase in excluded_phases):\n",
    "            print(\"Not training on \", L2_phase);\n",
    "            continue;\n",
    "        else:\n",
    "            pass;\n",
    "            #print(f\"Loading {L2_phase}\");\n",
    "        for i, n in enumerate(ns):\n",
    "            xv, zv, Ws, Wx, rho, s = load_step(file, n)\n",
    "            Ws = Ws[:-1,:-1]\n",
    "            Wx = Wx[:-1,:-1]\n",
    "            rho = rho[:]\n",
    "\n",
    "            dx = np.mean(np.diff(xv))\n",
    "            dz = np.mean(np.diff(zv))\n",
    "\n",
    "            if (i == 0) & (j == 0):\n",
    "                Ws_data = [Ws]\n",
    "                Wx_data = [Wx]\n",
    "                rho_data = [rho*dx*dz] ## note: rho is normalized to have sum of unity \n",
    "                dx_data = [dx]\n",
    "                dz_data = [dz]\n",
    "                s_data = [s]\n",
    "            else:\n",
    "                Ws_data = np.concatenate(([Ws], Ws_data))\n",
    "                Wx_data = np.concatenate(([Wx], Wx_data))\n",
    "                rho_data = np.concatenate(([rho*dx*dz], rho_data)) ## note: rho is normalized to have sum of unity \n",
    "                dx_data = np.concatenate(([dx], dx_data))\n",
    "                dz_data = np.concatenate(([dz], dz_data))\n",
    "                s_data = np.concatenate(([s], s_data))\n",
    "                \n",
    "print(\"Done loading in data\");\n",
    "\n",
    "\n",
    "### NOTE: resize_transform does not preserve the sum of the arrays over the grid. Thus we multiply by (100*200/(256*128))                \n",
    "## when we resize back later on, we should multiply by the inverse factor \n",
    "fac = 100*200/(256*128);\n",
    "\n",
    "Ws_data = torch.tensor(Ws_data)\n",
    "Ws_data = fac*resize_transform(Ws_data)\n",
    "Ws_data = torch.unsqueeze(Ws_data, dim=1)\n",
    "\n",
    "Wx_data = torch.tensor(Wx_data)\n",
    "Wx_data = fac*resize_transform(Wx_data)\n",
    "Wx_data = torch.unsqueeze(Wx_data, dim=1)\n",
    "\n",
    "rho_data = torch.tensor(rho_data)\n",
    "rho_data = fac*resize_transform(rho_data)\n",
    "rho_data = torch.unsqueeze(rho_data, dim=1)\n",
    "\n",
    "dx_data = torch.tensor(dx_data)\n",
    "dx_data = torch.unsqueeze(dx_data, dim=1)\n",
    "dz_data = torch.tensor(dz_data)\n",
    "dz_data = torch.unsqueeze(dz_data, dim=1)\n",
    "s_data = torch.tensor(s_data)\n",
    "s_data = torch.unsqueeze(s_data, dim=1)\n",
    "\n",
    "Ws_norm = torch.max(Ws_data)\n",
    "Wx_norm = torch.max(Wx_data)\n",
    "s_norm = torch.max(s_data)\n",
    "dz_norm = torch.max(dz_data)\n",
    "dx_norm = torch.max(dx_data)\n",
    "\n",
    "Ws_data /= Ws_norm ## normalize to maximum Ws in dataset \n",
    "Wx_data /= Wx_norm ## normalize to maximum Wx in dataset\n",
    "s_data /= s_norm ## normalize to maximum s in dataset \n",
    "dz_data /= dz_norm ## normalize dz to maximum dz in dataset \n",
    "dx_data /= dx_norm\n",
    "\n",
    "\n",
    "#Save somewhere safe\n",
    "basedir = 'global/homes/o/ocamacho/2DCSR_from_home/saved_networks/';\n",
    "normalizations = {\"Ws_norm\" : float(Ws_norm), \"Wx_norm\" : float(Wx_norm), \"s_norm\" : float(s_norm), \"dz_norm\" : float(dz_norm), \"dx_norm\" : float(dx_norm) };\n",
    "normalizations_filename = basedir +\"normalizations_04-30-24_2.txt\"\n",
    "\n",
    "with open(normalizations_filename, 'w') as file:\n",
    "        json.dump(normalizations, file)\n",
    "print(\"Successfully saved our normalizations\")\n",
    "\n",
    "\n",
    "\n",
    "Ws_data = Ws_data.to(torch.float32)\n",
    "Wx_data = Wx_data.to(torch.float32)\n",
    "rho_data = rho_data.to(torch.float32)\n",
    "s_data = s_data.to(torch.float32)\n",
    "dz_data = dz_data.to(torch.float32)\n",
    "dx_data = dx_data.to(torch.float32)\n"
   ]
  },
  {
   "cell_type": "code",
   "execution_count": 25,
   "id": "1cd17378-8f2e-49f4-8628-1cc75d3fc06f",
   "metadata": {
    "tags": []
   },
   "outputs": [],
   "source": [
    "\n",
    "## two-dimensional W array \n",
    "W_data = torch.cat((Ws_data, Wx_data), dim=1);\n",
    "scalar_data = torch.cat((s_data,dx_data,dz_data), dim=1);"
   ]
  },
  {
   "cell_type": "code",
   "execution_count": null,
   "id": "b124e833-6dd3-4d78-8378-19fac9925d10",
   "metadata": {
    "tags": []
   },
   "outputs": [],
   "source": [
    "basedir = 'global/homes/o/ocamacho/2DCSR_from_home/saved_networks/'\n",
    "norm_file = 'normalizations_04-30-2023-500_epochs.h5'\n",
    "\n",
    "with h5py.File(f'{basedir}/{norm_file}', 'r') as f:\n",
    "    Ws_norm = f['Ws_norm']\n",
    "    Wx_norm = f['Wx_norm']\n",
    "    dx_norm = f['dx_norm']\n",
    "    dz_norm = f['dz_norm']\n",
    "    s_norm = f['s_norm']"
   ]
  },
  {
   "cell_type": "code",
   "execution_count": 12,
   "id": "231d04be-c04d-430d-bbc5-9450fa265323",
   "metadata": {
    "tags": []
   },
   "outputs": [],
   "source": [
    "def load_step_s_check(file, directory = '/global/cfs/cdirs/m669/riverr/2DCSR/check_wake_s_dependence/', emit = False): # load one step from a simulation file \n",
    "    file_name = directory + f'/{file}';#f'2DCSR_NN_lucretia/{file}'\n",
    "    #print(file_name)\n",
    "    h5 = h5py.File(file_name, 'r');\n",
    "\n",
    "    result = h5['csr_result'];\n",
    "    \n",
    "    #print(result.keys())\n",
    "    nz, nx = np.array(result[\"Ws_grid\"]).T.shape ## number of grid points in z and x for wakes \n",
    "    nz_cg, nx_cg = np.array(result[\"lambda_grid\"]).T.shape ## number of grid points in z and x for beam density \n",
    "    ## lambda and rho both refer to beam density\n",
    "    if 'zv' in result.keys():\n",
    "        zmin = min(result[\"zv\"]); ## minimum z coordinate\n",
    "        zmax = max(result[\"zv\"]);\n",
    "    else:\n",
    "        zmin = min(result[\"zmin\"]); ## minimum z coordinate\n",
    "        zmax = max(result[\"zmin\"]);\n",
    "    xmin = min(result[\"xv\"]);\n",
    "    xmax = max(result[\"xv\"]);\n",
    "\n",
    "    zv = np.linspace(zmin, zmax, nz);\n",
    "    xv = np.linspace(xmin, xmax, nx);\n",
    "\n",
    "    zv_cg = np.linspace(zmin, zmax, nz_cg);\n",
    "    xv_cg = np.linspace(xmin, xmax, nx_cg);\n",
    "\n",
    "    Ws_grid = np.array(result[\"Ws_grid\"]).T;\n",
    "    Wx_grid = np.array(result[\"Wx_grid\"]).T;\n",
    "    lambda_grid = np.array(result[\"lambda_grid\"]).T;\n",
    "        \n",
    "    s = float( file.split('_')[-1].split('.h5')[0] )\n",
    "    \n",
    "    return xv, zv, Ws_grid, Wx_grid, lambda_grid, s;"
   ]
  },
  {
   "cell_type": "code",
   "execution_count": 13,
   "id": "c81cbe8e-04bb-4554-8e97-56c9d8d9c5f7",
   "metadata": {
    "tags": []
   },
   "outputs": [
    {
     "ename": "ValueError",
     "evalue": "all the input arrays must have same number of dimensions, but the array at index 0 has 3 dimension(s) and the array at index 1 has 4 dimension(s)",
     "output_type": "error",
     "traceback": [
      "\u001b[0;31m---------------------------------------------------------------------------\u001b[0m",
      "\u001b[0;31mValueError\u001b[0m                                Traceback (most recent call last)",
      "Cell \u001b[0;32mIn[13], line 14\u001b[0m\n\u001b[1;32m     10\u001b[0m dz \u001b[38;5;241m=\u001b[39m np\u001b[38;5;241m.\u001b[39mmean(np\u001b[38;5;241m.\u001b[39mdiff(zv))\n\u001b[1;32m     12\u001b[0m \u001b[38;5;66;03m#s = float(file[-6:-3])\u001b[39;00m\n\u001b[0;32m---> 14\u001b[0m Ws_data \u001b[38;5;241m=\u001b[39m \u001b[43mnp\u001b[49m\u001b[38;5;241;43m.\u001b[39;49m\u001b[43mconcatenate\u001b[49m\u001b[43m(\u001b[49m\u001b[43m(\u001b[49m\u001b[43m[\u001b[49m\u001b[43mWs\u001b[49m\u001b[43m]\u001b[49m\u001b[43m,\u001b[49m\u001b[43m \u001b[49m\u001b[43mWs_data\u001b[49m\u001b[43m)\u001b[49m\u001b[43m)\u001b[49m\n\u001b[1;32m     15\u001b[0m Wx_data \u001b[38;5;241m=\u001b[39m np\u001b[38;5;241m.\u001b[39mconcatenate(([Wx], Wx_data))\n\u001b[1;32m     16\u001b[0m rho_data \u001b[38;5;241m=\u001b[39m np\u001b[38;5;241m.\u001b[39mconcatenate(([rho\u001b[38;5;241m*\u001b[39mdx\u001b[38;5;241m*\u001b[39mdz], rho_data)) \u001b[38;5;66;03m## note: rho is normalized to have sum of unity \u001b[39;00m\n",
      "\u001b[0;31mValueError\u001b[0m: all the input arrays must have same number of dimensions, but the array at index 0 has 3 dimension(s) and the array at index 1 has 4 dimension(s)"
     ]
    }
   ],
   "source": [
    "for j, file in enumerate(os.listdir('/global/cfs/cdirs/m669/riverr/2DCSR/check_wake_s_dependence/')):\n",
    "    if file.startswith('result'):\n",
    "        #print(file)\n",
    "        xv, zv, Ws, Wx, rho, s = load_step_s_check(file)\n",
    "        Ws = Ws[:-1,:-1]\n",
    "        Wx = Wx[:-1,:-1]\n",
    "        rho = rho[:]\n",
    "\n",
    "        dx = np.mean(np.diff(xv))\n",
    "        dz = np.mean(np.diff(zv))\n",
    "\n",
    "        #s = float(file[-6:-3])\n",
    "\n",
    "        Ws_data = np.concatenate(([Ws], Ws_data))\n",
    "        Wx_data = np.concatenate(([Wx], Wx_data))\n",
    "        rho_data = np.concatenate(([rho*dx*dz], rho_data)) ## note: rho is normalized to have sum of unity \n",
    "        dx_data = np.concatenate(([dx], dx_data))\n",
    "        dz_data = np.concatenate(([dz], dz_data))\n",
    "        s_data = np.concatenate(([s], s_data))\n",
    "print(\"Done saving s dependence\")"
   ]
  },
  {
   "cell_type": "code",
   "execution_count": null,
   "id": "dbf68e4f-ec3c-4505-89bc-d5ab6f7b6088",
   "metadata": {
    "tags": []
   },
   "outputs": [],
   "source": []
  },
  {
   "cell_type": "code",
   "execution_count": 20,
   "id": "66fba727-268f-45a5-9dc6-77ce8bf24a33",
   "metadata": {
    "tags": []
   },
   "outputs": [
    {
     "data": {
      "text/plain": [
       "[<matplotlib.lines.Line2D at 0x7f3d4ac92550>]"
      ]
     },
     "execution_count": 20,
     "metadata": {},
     "output_type": "execute_result"
    },
    {
     "data": {
      "image/png": "[encoded data removed]",
      "text/plain": [
       "<Figure size 640x480 with 1 Axes>"
      ]
     },
     "metadata": {},
     "output_type": "display_data"
    }
   ],
   "source": [
    "plt.plot(s_data, '.')"
   ]
  },
  {
   "cell_type": "code",
   "execution_count": 21,
   "id": "6fb05c32-6523-4cbd-ba01-1e73adcb3333",
   "metadata": {
    "tags": []
   },
   "outputs": [
    {
     "data": {
      "image/png": "[encoded data removed]",
      "text/plain": [
       "<Figure size 640x480 with 15 Axes>"
      ]
     },
     "metadata": {},
     "output_type": "display_data"
    }
   ],
   "source": [
    "nshow = 5\n",
    "fig, ax = plt.subplots(3, nshow)\n",
    "indices = np.random.randint(0, rho_data.shape[0], nshow)\n",
    "for j in range(ax.shape[1]):\n",
    "    ax[0,j].imshow(rho_data[indices[j],0])\n",
    "    ax[1,j].imshow(Ws_data[indices[j],0])\n",
    "    ax[2,j].imshow(Wx_data[indices[j],0])"
   ]
  },
  {
   "cell_type": "code",
   "execution_count": 22,
   "id": "aad7322f-8c8e-4247-8e14-78f0ce284a4e",
   "metadata": {
    "tags": []
   },
   "outputs": [
    {
     "data": {
      "text/plain": [
       "<matplotlib.image.AxesImage at 0x7f3d4a88b5d0>"
      ]
     },
     "execution_count": 22,
     "metadata": {},
     "output_type": "execute_result"
    },
    {
     "data": {
      "image/png": "[encoded data removed]",
      "text/plain": [
       "<Figure size 640x480 with 1 Axes>"
      ]
     },
     "metadata": {},
     "output_type": "display_data"
    }
   ],
   "source": [
    "plt.imshow(rho_data[0, 0])"
   ]
  },
  {
   "cell_type": "code",
   "execution_count": null,
   "id": "96bedf27-b605-4ea4-a189-2b8d38ba3d5d",
   "metadata": {
    "tags": []
   },
   "outputs": [],
   "source": []
  },
  {
   "cell_type": "code",
   "execution_count": null,
   "id": "cc59fe02-02b6-4af7-823a-cdd43bcafd49",
   "metadata": {
    "tags": []
   },
   "outputs": [],
   "source": []
  },
  {
   "cell_type": "code",
   "execution_count": null,
   "id": "d1830185-9ad6-41f2-9a70-1b8378e9cb42",
   "metadata": {
    "tags": []
   },
   "outputs": [],
   "source": []
  },
  {
   "cell_type": "markdown",
   "id": "dac7826c-610f-406f-9131-2d2ab0ad2302",
   "metadata": {
    "tags": []
   },
   "source": [
    "## Currently I have all of the data in rho_data, Ws_data, Wx_data, dx_data, dz_data, s_data. \n",
    "## Now I need to split into training and validation"
   ]
  },
  {
   "cell_type": "code",
   "execution_count": 23,
   "id": "f0640df4-f228-496d-bd98-ded343b3d82c",
   "metadata": {
    "tags": []
   },
   "outputs": [
    {
     "name": "stdout",
     "output_type": "stream",
     "text": [
      "torch.Size([1100, 1, 256, 128])\n"
     ]
    }
   ],
   "source": [
    "print(Ws_data.shape)"
   ]
  },
  {
   "cell_type": "code",
   "execution_count": 26,
   "id": "475f5dc7-82a7-45b9-99d7-ae78d60e7d2a",
   "metadata": {
    "tags": []
   },
   "outputs": [
    {
     "name": "stdout",
     "output_type": "stream",
     "text": [
      "Starting with 1100 pieces of data\n",
      "990 training examples\n",
      "110 validation examples\n"
     ]
    }
   ],
   "source": [
    "# Split up into training, validation, and testing batches\n",
    "n_total = Ws_data.shape[0]\n",
    "print(f\"Starting with {n_total} pieces of data\");\n",
    "train_frac = 0.90 #approximate ercentage of data to be used for training\n",
    "val_frac = 0.10;#for validation\n",
    "assert train_frac + val_frac == 1.0\n",
    "\n",
    "n_train = int(train_frac * n_total); #Training set size\n",
    "train_idx = random.sample(range(n_total), n_train)\n",
    "print(len(train_idx), \"training examples\");\n",
    "\n",
    "\n",
    "remaining_idx = [i for i in range(n_total) if i not in train_idx] # remaining indices available\n",
    "n_remaining = len(remaining_idx);\n",
    "\n",
    "n_val = n_remaining\n",
    "val_idx  = [ind for ind in remaining_idx];\n",
    "assert n_val == len(val_idx)\n",
    "print(len(val_idx), \"validation examples\");\n",
    "\n",
    "\n",
    "W_train = W_data[train_idx];\n",
    "W_val = W_data[val_idx];\n",
    "\n",
    "\n",
    "\n",
    "rho_train = rho_data[train_idx];\n",
    "rho_val = rho_data[val_idx];\n",
    "\n",
    "scalar_train = scalar_data[train_idx];\n",
    "scalar_val = scalar_data[val_idx];\n"
   ]
  },
  {
   "cell_type": "code",
   "execution_count": 29,
   "id": "59288feb-3e65-4520-9792-4297046de0dd",
   "metadata": {
    "tags": []
   },
   "outputs": [],
   "source": [
    "#Make sure the sets we created are pairwise disjoint!\n",
    "train_idx_set = set(); val_idx_set = set(); test_idx_set = set();\n",
    "for entry in train_idx:\n",
    "    train_idx_set.add(entry);\n",
    "for entry in val_idx:\n",
    "    val_idx_set.add(entry);\n",
    "pairwise_disjoint = train_idx_set.intersection(val_idx_set)  == set() and val_idx_set.intersection(test_idx_set) == set()\n",
    "assert pairwise_disjoint"
   ]
  },
  {
   "cell_type": "code",
   "execution_count": 30,
   "id": "28f90882-605b-4d80-a8af-a66161e7ce4b",
   "metadata": {
    "tags": []
   },
   "outputs": [
    {
     "name": "stdout",
     "output_type": "stream",
     "text": [
      "Successfully saved our partition\n"
     ]
    }
   ],
   "source": [
    "#Save somewhere safe\n",
    "data_partition = {\"train_idx\": train_idx, \"val_idx\": val_idx, 'exluded_phases': excluded_phases};\n",
    "data_partition_filename = \"data_partition_04-30-24_500_epochs.txt\"\n",
    "\n",
    "\n",
    "with open(data_partition_filename, 'w') as file:\n",
    "        json.dump(data_partition, file)\n",
    "print(\"Successfully saved our partition\")"
   ]
  },
  {
   "cell_type": "markdown",
   "id": "872cbcd9-7991-41d6-9f0c-acb99c883834",
   "metadata": {},
   "source": [
    "## Define the CSR2D pytorch module"
   ]
  },
  {
   "cell_type": "code",
   "execution_count": 31,
   "id": "2834b8e4-8108-4507-9959-7c922511d2f7",
   "metadata": {
    "tags": []
   },
   "outputs": [],
   "source": [
    "class CSR2D(nn.Module):\n",
    "    def __init__(self):\n",
    "        super(CSR2D, self).__init__()\n",
    "\n",
    "        encoding_dim = 16 # length of 1D beam density image representation\n",
    "        \n",
    "        num_conv = 5 # number of convolutional layers in encoder\n",
    "        nfilters = 32 # number of \"matrices\" in a single convolutional layer \n",
    "        kernel_sizes = (3, 7) # each size is the size of one side of the convolution matrix, we are applying two matrices here \n",
    "        pool_size = 2 # factor by which we reduce the image size on each conv layer \n",
    "        activation = nn.ReLU() # activation function for the conv layers\n",
    "        \n",
    "        encoder_layers = []\n",
    "        \n",
    "        for i in range(num_conv):\n",
    "            for j, kernel_size in enumerate(kernel_sizes):\n",
    "                if (i == 0) and (j == 0):\n",
    "                    encoder_layers.append(nn.Conv2d(1, nfilters, kernel_size, padding=kernel_size//2))\n",
    "                else:\n",
    "                    encoder_layers.append(nn.Conv2d(nfilters, nfilters, kernel_size, padding=kernel_size//2))\n",
    "                encoder_layers.append(nn.BatchNorm2d(nfilters))\n",
    "                encoder_layers.append(activation)\n",
    "            #encoder_layers.append(nn.BatchNorm2d(nfilters))\n",
    "            encoder_layers.append(nn.MaxPool2d(pool_size))\n",
    "        \n",
    "        encoder_layers.append(nn.Flatten())\n",
    "        encoder_layers.append(nn.Linear(int(nfilters * 256/2**num_conv * 128/2**num_conv), encoding_dim))\n",
    "        encoder_layers.append(activation)\n",
    "        \n",
    "        self.encoder = nn.Sequential(*encoder_layers)\n",
    "        \n",
    "        num_dense = 2 # number of dense layers before the resizing dense layer  \n",
    "        small_dim_power2 = 4 # size of image output from dense network is 2**(this) x 2**(this+1)\n",
    "        num_units = 200 # number of nodes in intermediate dense layers \n",
    "        activation = nn.ReLU()\n",
    "        \n",
    "        dense_layers = []\n",
    "        \n",
    "        dense_layers.append(nn.Linear(encoding_dim + 3, num_units)) ## encoding_dim + number of scalar parameters \n",
    "        dense_layers.append(activation)\n",
    "        \n",
    "        for _ in range(num_dense - 1):\n",
    "            dense_layers.append(nn.Linear(num_units, num_units))\n",
    "            dense_layers.append(activation)\n",
    "        \n",
    "        dense_layers.append(nn.Linear(num_units, 2**(2*small_dim_power2+1)))\n",
    "        dense_layers.append(activation)\n",
    "        dense_layers.append(nn.Unflatten(1, (1,2*2**small_dim_power2, 2**small_dim_power2) )   );\n",
    "\n",
    "        self.intermediate = nn.Sequential(*dense_layers)\n",
    "        \n",
    "        decoder_layers = []\n",
    "        num_deconv = 7 - small_dim_power2\n",
    "        \n",
    "        nfilters = 32\n",
    "        kernel_sizes = [3, 7]\n",
    "        pool_size = 2\n",
    "        activation = nn.ReLU()\n",
    "        \n",
    "        for i in range(num_deconv):\n",
    "            for j, kernel_size in enumerate(kernel_sizes):\n",
    "                if (i == 0) and (j == 0): \n",
    "                    decoder_layers.append(nn.ConvTranspose2d(1, nfilters, kernel_size, stride=1, padding=kernel_size//2, output_padding=0))\n",
    "                else:\n",
    "                    decoder_layers.append(nn.ConvTranspose2d(nfilters, nfilters, kernel_size, stride=1, padding=kernel_size//2, output_padding=0))\n",
    "                decoder_layers.append(nn.BatchNorm2d(nfilters))\n",
    "                decoder_layers.append(activation)\n",
    "            #decoder_layers.append(nn.BatchNorm2d(nfilters))\n",
    "            decoder_layers.append(nn.Upsample(scale_factor=2, mode='bilinear'))\n",
    "        \n",
    "        decoder_layers.append(nn.Conv2d(nfilters, 2, kernel_size=1, padding=0)) # linear activation is necessary if our network needs to give negative numbers\n",
    "        \n",
    "        self.decoder = nn.Sequential(*decoder_layers)\n",
    "\n",
    "    def _initialize_weights(self):\n",
    "        for m in self.modules():\n",
    "            if isinstance(m, nn.Conv2d) or isinstance(m, nn.ConvTranspose2d):\n",
    "                nn.init.kaiming_normal_(m.weight, mode='fan_out', nonlinearity='relu')\n",
    "                if m.bias is not None:\n",
    "                    nn.init.constant_(m.bias, 0)\n",
    "            elif isinstance(m, nn.BatchNorm2d):\n",
    "                nn.init.constant_(m.weight, 1)\n",
    "                nn.init.constant_(m.bias, 0)\n",
    "\n",
    "    def forward(self, img_inputs):\n",
    "        scalar_inputs = img_inputs[1]\n",
    "        img_inputs = img_inputs[0]\n",
    "        encoded_flattened = self.encoder(img_inputs)\n",
    "        concatenated = torch.cat((encoded_flattened, scalar_inputs), dim=1)\n",
    "        afterNN = self.intermediate(concatenated)\n",
    "        decoded = self.decoder(afterNN) # Reshape to match the input size of decoder\n",
    "        return decoded"
   ]
  },
  {
   "cell_type": "code",
   "execution_count": 32,
   "id": "97322dcf-eb03-4fad-97e5-66ad3a1e5e24",
   "metadata": {
    "tags": []
   },
   "outputs": [],
   "source": [
    "training_dataset = TensorDataset(rho_train, scalar_train, W_train)\n",
    "training_dataloader = DataLoader(training_dataset, batch_size= 64, shuffle=True)#.cuda()"
   ]
  },
  {
   "cell_type": "markdown",
   "id": "cb988a08-4cc0-4797-8b78-a0be172fcd62",
   "metadata": {},
   "source": [
    "## Now let's do training on the GPU "
   ]
  },
  {
   "cell_type": "code",
   "execution_count": 33,
   "id": "c297b129-fa1f-4d65-837c-e15680c7496f",
   "metadata": {
    "tags": []
   },
   "outputs": [],
   "source": [
    "#csr2d_model.to(curr_device); ## the model now lives on the GPU \n",
    "curr_device = torch.device(\"cuda:0\")\n",
    "csr2d_model = CSR2D()\n",
    "\"\"\"#TODO: Put model on multiple GPUs!\n",
    "csr2d_model = csr2d_model #Model(input_size, output_size)\n",
    "if torch.cuda.device_count() > 1:\n",
    "    print(\"Let's use\", torch.cuda.device_count(), \"GPUs!\")\n",
    "    csr2d_model = nn.DataParallel(csr2d_model)\n",
    "\"\"\"\n",
    "csr2d_model.to(curr_device);"
   ]
  },
  {
   "cell_type": "code",
   "execution_count": 34,
   "id": "3d49f7cc-553b-41cd-986a-32a67559d3d2",
   "metadata": {
    "tags": []
   },
   "outputs": [],
   "source": [
    "#csr2d_model.load_state_dict(torch.load('good_state_04-22-2024'))"
   ]
  },
  {
   "cell_type": "code",
   "execution_count": 35,
   "id": "9dffd338-cd15-4e5a-ae9e-c8c4043e0ab4",
   "metadata": {
    "tags": []
   },
   "outputs": [],
   "source": [
    "# Define loss function and optimizer\n",
    "criterion = nn.L1Loss()\n",
    "optimizer = optim.Adam(csr2d_model.parameters(), lr=0.003)\n",
    "\n",
    "from torch.optim.lr_scheduler import ReduceLROnPlateau\n",
    "reduce_lr = ReduceLROnPlateau(optimizer, mode='min', factor=0.5, patience=40, min_lr=1e-6)"
   ]
  },
  {
   "cell_type": "code",
   "execution_count": null,
   "id": "5a87b4f3-24bb-458b-8fe4-a08ce2b19b98",
   "metadata": {
    "tags": []
   },
   "outputs": [
    {
     "name": "stdout",
     "output_type": "stream",
     "text": [
      "Epoch [1/500], Loss: 0.1349, Val Loss: 0.0559, LR: 0.003\n",
      "Epoch [11/500], Loss: 0.0373, Val Loss: 0.0590, LR: 0.003\n",
      "Epoch [21/500], Loss: 0.0334, Val Loss: 0.0460, LR: 0.003\n",
      "Epoch [31/500], Loss: 0.0282, Val Loss: 0.0609, LR: 0.003\n",
      "Epoch [41/500], Loss: 0.0246, Val Loss: 0.0487, LR: 0.003\n",
      "Epoch [51/500], Loss: 0.0223, Val Loss: 0.0579, LR: 0.003\n",
      "Epoch [61/500], Loss: 0.0200, Val Loss: 0.0480, LR: 0.0015\n",
      "Epoch [71/500], Loss: 0.0195, Val Loss: 0.0533, LR: 0.0015\n",
      "Epoch [81/500], Loss: 0.0189, Val Loss: 0.0453, LR: 0.0015\n",
      "Epoch [91/500], Loss: 0.0177, Val Loss: 0.0547, LR: 0.0015\n",
      "Epoch [101/500], Loss: 0.0166, Val Loss: 0.0546, LR: 0.0015\n",
      "Epoch [111/500], Loss: 0.0149, Val Loss: 0.0540, LR: 0.00075\n",
      "Epoch [121/500], Loss: 0.0146, Val Loss: 0.0488, LR: 0.00075\n",
      "Epoch [131/500], Loss: 0.0137, Val Loss: 0.0587, LR: 0.00075\n",
      "Epoch [141/500], Loss: 0.0140, Val Loss: 0.0499, LR: 0.00075\n",
      "Epoch [151/500], Loss: 0.0136, Val Loss: 0.0487, LR: 0.00075\n",
      "Epoch [161/500], Loss: 0.0130, Val Loss: 0.0460, LR: 0.00075\n",
      "Epoch [171/500], Loss: 0.0126, Val Loss: 0.0471, LR: 0.00075\n",
      "Epoch [181/500], Loss: 0.0122, Val Loss: 0.0448, LR: 0.00075\n",
      "Epoch [191/500], Loss: 0.0117, Val Loss: 0.0430, LR: 0.000375\n",
      "Epoch [201/500], Loss: 0.0115, Val Loss: 0.0464, LR: 0.000375\n",
      "Epoch [211/500], Loss: 0.0109, Val Loss: 0.0478, LR: 0.000375\n",
      "Epoch [221/500], Loss: 0.0112, Val Loss: 0.0443, LR: 0.000375\n",
      "Epoch [231/500], Loss: 0.0106, Val Loss: 0.0461, LR: 0.000375\n",
      "Epoch [241/500], Loss: 0.0113, Val Loss: 0.0476, LR: 0.000375\n",
      "Epoch [251/500], Loss: 0.0109, Val Loss: 0.0491, LR: 0.000375\n"
     ]
    }
   ],
   "source": [
    "%%time\n",
    "\n",
    "# Training loop\n",
    "num_epochs = 500\n",
    "epoch_losses = np.zeros(num_epochs)\n",
    "val_losses = np.zeros(num_epochs)\n",
    "for epoch in range(num_epochs):\n",
    "    csr2d_model.train()  # Set model to training mode\n",
    "    running_loss = 0.0\n",
    "    \n",
    "    for rho_input, scalar_input, W_input in training_dataloader:\n",
    "        rho_input, scalar_input, W_input = rho_input.to(curr_device), scalar_input.to(curr_device), W_input.to(curr_device)\n",
    "        \n",
    "        optimizer.zero_grad()  # Zero the parameter gradients\n",
    "        \n",
    "        # Forward pass\n",
    "        outputs = csr2d_model([rho_input, scalar_input])\n",
    "        loss = criterion(outputs, W_input)\n",
    "        \n",
    "        # Backward pass and optimize\n",
    "        loss.backward()\n",
    "        optimizer.step()\n",
    "        \n",
    "        running_loss += loss.item() * rho_input.size(0)\n",
    "    \n",
    "    # Calculate average loss for the epoch\n",
    "    epoch_loss = running_loss / len(training_dataloader.dataset)\n",
    "    epoch_losses[epoch] = epoch_loss \n",
    "    \n",
    "    csr2d_model.eval()\n",
    "    with torch.no_grad():\n",
    "        val_result = csr2d_model([rho_val.to(curr_device), scalar_val.to(curr_device)])\n",
    "        val_loss = criterion(val_result, W_val.to(curr_device))\n",
    "        val_losses[epoch] = val_loss\n",
    "    \n",
    "    if(not (epoch%10) ):\n",
    "        print(f'Epoch [{epoch+1}/{num_epochs}], Loss: {epoch_loss:.4f}, Val Loss: {val_loss:.4f}, LR: {optimizer.param_groups[0][\"lr\"]}')\n",
    "    \n",
    "    reduce_lr.step(val_loss)\n",
    "    \n",
    "plt.plot(epoch_losses)\n",
    "plt.plot(val_losses)"
   ]
  },
  {
   "cell_type": "code",
   "execution_count": null,
   "id": "b2b98f3a-ac5d-4429-a7b1-71a74166035e",
   "metadata": {
    "tags": []
   },
   "outputs": [],
   "source": [
    "plt.plot(epoch_losses, label = \"Training\", linewidth = 1)\n",
    "#plt.scatter(range(len(epoch_losses)), epoch_losses, label = \"Training\", s = 1)\n",
    "plt.ylim(0, 0.25)\n",
    "plt.xlim(-4, len(val_losses))\n",
    "plt.plot(val_losses, label = \"Validation\", linewidth = 3/4)\n",
    "#plt.scatter(range(len(val_losses)), val_losses, label = \"Validation\", s = 1)\n",
    "plt.xlabel(\"Epoch\")\n",
    "plt.ylabel(r\"$L_1$-Loss\")\n",
    "plt.legend();"
   ]
  },
  {
   "cell_type": "code",
   "execution_count": null,
   "id": "b20fc4e7-2b47-423a-9214-f43a595877d9",
   "metadata": {
    "tags": []
   },
   "outputs": [],
   "source": [
    "csr2d_model.eval()\n",
    "result_val = csr2d_model([rho_val.to(curr_device), scalar_val.to(curr_device)])"
   ]
  },
  {
   "cell_type": "code",
   "execution_count": null,
   "id": "bae6b50e-7359-4f85-b753-c188d2d03da2",
   "metadata": {
    "tags": []
   },
   "outputs": [],
   "source": [
    "i = -3\n",
    "\n",
    "fig, ax = plt.subplots(2,3, figsize=(8, 8))\n",
    "criterion2 = nn.MSELoss()\n",
    "#print(f\"Relative error is {100*err1/reff_amp_s:.2f} pct in s and {100*err1/reff_amp_x:.2f} pct. in x\")\n",
    "ax[0,0].imshow(result_val[i,0].cpu().detach().numpy(), aspect='auto', origin='lower')\n",
    "ax[1,0].imshow(result_val[i,1].cpu().detach().numpy(), aspect='auto', origin='lower')\n",
    "\n",
    "ax[0,1].imshow(W_val[i,0], aspect='auto', origin='lower')\n",
    "ax[1,1].imshow(W_val[i,1], aspect='auto', origin='lower')\n",
    "\n",
    "ax[0,0].set_title('Predicted Ws')\n",
    "ax[1,0].set_title('Predicted Wx')\n",
    "ax[0,1].set_title('True Ws')\n",
    "ax[1,1].set_title('True Wx')\n",
    "\n",
    "ax[0,2].imshow(rho_val[i, 0].cpu().detach().numpy(), aspect = 'auto', origin = 'lower')\n",
    "ax[1,2].imshow(rho_val[i, 0].cpu().detach().numpy(), aspect = 'auto', origin = 'lower')\n",
    "ax[0,2].set_title(\"Beam density\")\n",
    "\n",
    "\n",
    "fig.suptitle(f\"Performance on Testing Piece {i}\", fontsize=12)\n",
    "fig.tight_layout()\n",
    "\n",
    "err1 =  np.sqrt( (criterion(result_test[i].cpu(), W_test[i])).cpu().detach().numpy() );\n",
    "err2 =  np.sqrt( (criterion2(result_test[i].cpu(), W_test[i])).cpu().detach().numpy() );\n",
    "reff_amp_s = np.max( np.abs( result_test[i,0].cpu().detach().numpy() ) )\n",
    "reff_amp_x = np.max( np.abs( result_test[i,1].cpu().detach().numpy() ) )\n",
    "print(f\"Max Ws amplitude is {reff_amp_s}\")\n",
    "print(f\"Max Wx amplitude is {reff_amp_x}\")\n",
    "print(f\"L_1-error is {err1:.3f}\")\n",
    "print(f\"L_2-error is {err2:.3f}\")"
   ]
  },
  {
   "cell_type": "markdown",
   "id": "81cecee6-ad75-4735-b848-30112eee9e88",
   "metadata": {},
   "source": [
    "## Now we construct the data for the test set"
   ]
  },
  {
   "cell_type": "code",
   "execution_count": null,
   "id": "571cf82d-d8ca-4cfc-b503-ca3394d48db5",
   "metadata": {
    "tags": []
   },
   "outputs": [],
   "source": [
    "#%%time\n",
    "\n",
    "ns = np.arange(20) # 20 steps per simulation \n",
    "Ws_test = []\n",
    "Wx_test = []\n",
    "rho_test = [] ## note: rho is normalized to have sum of unity \n",
    "dx_test = []\n",
    "dz_test = []\n",
    "s_test = []\n",
    "for j, file in enumerate(os.listdir(tracking_results_direc)):\n",
    "    if file.startswith('result'):\n",
    "        ind_0 = file.find(\"P2\");\n",
    "        ind_1 = file.find(\".h\");\n",
    "        L2_phase = float(file[ind_0+3: ind_1]);\n",
    "        if(L2_phase not in excluded_phases):\n",
    "            continue;\n",
    "        else:\n",
    "            print(f\"Loading {L2_phase} for testing\");\n",
    "        for i, n in enumerate(ns):\n",
    "            xv, zv, Ws, Wx, rho, s = load_step(file, n)\n",
    "            Ws = Ws[:-1,:-1]\n",
    "            Wx = Wx[:-1,:-1]\n",
    "            rho = rho[:]\n",
    "\n",
    "            dx = np.mean(np.diff(xv))\n",
    "            dz = np.mean(np.diff(zv))\n",
    "            Ws_test.append(Ws);\n",
    "            #Ws_test = np.concatenate(([Ws], Ws_test))\n",
    "            #print(len(Ws_test))\n",
    "            Wx_test.append(Wx);\n",
    "            #Wx_test = np.concatenate(([Wx], Wx_test))\n",
    "            #rho_test = np.concatenate(([rho*dx*dz], rho_test)) ## note: rho is normalized to have sum of unity \n",
    "            rho_test.append(rho*dx*dx);\n",
    "            dx_test.append(dx);\n",
    "            #dx_test = np.concatenate(([dx], dx_test))\n",
    "            dz_test.append(dx);\n",
    "            #dz_test = np.concatenate(([dz], dz_test))\n",
    "            s_test.append(s);\n",
    "            #s_test = np.concatenate(([s], s_test))\n",
    "        #print(np.shape(Ws_test))\n",
    "                \n",
    "print(\"Done loading in data\");\n",
    "print(np.shape(Ws_test))\n",
    "\n",
    "### NOTE: resize_transform does not preserve the sum of the arrays over the grid. Thus we multiply by (100*200/(256*128))                \n",
    "## when we resize back later on, we should multiply by the inverse factor \n",
    "fac = 100*200/(256*128);\n",
    "\n",
    "Ws_test = torch.tensor(Ws_test);\n",
    "Ws_test = fac*resize_transform(Ws_test);\n",
    "Ws_test = torch.unsqueeze(Ws_test, dim=1);\n",
    "\n",
    "Wx_test = torch.tensor(Wx_test);\n",
    "Wx_test = fac*resize_transform(Wx_test);\n",
    "Wx_test = torch.unsqueeze(Wx_test, dim=1);\n",
    "\n",
    "rho_test = torch.tensor(rho_test);\n",
    "rho_test = fac*resize_transform(rho_test);\n",
    "rho_test = torch.unsqueeze(rho_test, dim=1);\n",
    "\n",
    "dx_test = torch.tensor(dx_test);\n",
    "dx_test = torch.unsqueeze(dx_test, dim=1);\n",
    "dz_test = torch.tensor(dz_test);\n",
    "dz_test = torch.unsqueeze(dz_test, dim=1);\n",
    "s_test = torch.tensor(s_test);\n",
    "s_test = torch.unsqueeze(s_test, dim=1);\n",
    "\n",
    "Ws_test_norm = torch.max(Ws_test);\n",
    "Wx_test_norm = torch.max(Wx_test);\n",
    "s_test_norm = torch.max(s_test);\n",
    "dz_test_norm = torch.max(dz_test);\n",
    "dx_test_norm = torch.max(dx_test);\n",
    "\n",
    "Ws_test /= Ws_test_norm; ## normalize to maximum Ws in dataset \n",
    "Wx_test /= Wx_test_norm; ## normalize to maximum Wx in dataset\n",
    "s_test /= s_test_norm; ## normalize to maximum s in dataset \n",
    "dz_test /= dz_test_norm; ## normalize dz to maximum dz in dataset \n",
    "dx_test /= dx_test_norm;\n",
    "\n",
    "\n",
    "Ws_test = Ws_test.to(torch.float32);\n",
    "Wx_test = Wx_test.to(torch.float32);\n",
    "rho_test = rho_test.to(torch.float32);\n",
    "s_test = s_test.to(torch.float32);\n",
    "dz_test = dz_test.to(torch.float32);\n",
    "dx_test = dx_test.to(torch.float32);\n",
    "\n",
    "## two-dimensional W array \n",
    "W_test = torch.cat((Ws_test, Wx_test), dim=1);\n",
    "scalar_test = torch.cat((s_test,dx_test,dz_test), dim=1);"
   ]
  },
  {
   "cell_type": "code",
   "execution_count": null,
   "id": "c53b1a0a-e95a-4116-ae52-abdae00c69ab",
   "metadata": {
    "tags": []
   },
   "outputs": [],
   "source": [
    "csr2d_model.eval();\n",
    "result_test = csr2d_model([rho_test.to(curr_device), scalar_test.to(curr_device)]);"
   ]
  },
  {
   "cell_type": "code",
   "execution_count": null,
   "id": "08d39319-7573-4105-82a3-90ccd0ec755a",
   "metadata": {
    "tags": []
   },
   "outputs": [],
   "source": [
    "i = 139\n",
    "\n",
    "fig, ax = plt.subplots(2,3,figsize=(12, 8))\n",
    "criterion2 = nn.MSELoss()\n",
    "#print(f\"Relative error is {100*err1/reff_amp_s:.2f} pct in s and {100*err1/reff_amp_x:.2f} pct. in x\")\n",
    "ax[0,0].imshow(result_test[i,0].cpu().detach().numpy(), aspect='auto', origin='lower')\n",
    "ax[1,0].imshow(result_test[i,1].cpu().detach().numpy(), aspect='auto', origin='lower')\n",
    "\n",
    "ax[0,1].imshow(W_test[i,0], aspect='auto', origin='lower')\n",
    "ax[1,1].imshow(W_test[i,1], aspect='auto', origin='lower')\n",
    "\n",
    "ax[0,0].set_title('Predicted Ws')\n",
    "ax[1,0].set_title('Predicted Wx')\n",
    "ax[0,1].set_title('True Ws')\n",
    "ax[1,1].set_title('True Wx')\n",
    "\n",
    "\n",
    "ax[0,2].imshow(rho_test[i, 0].cpu().detach().numpy(), aspect = 'auto', origin = 'lower')\n",
    "ax[1,2].imshow(rho_test[i, 0].cpu().detach().numpy(), aspect = 'auto', origin = 'lower')\n",
    "ax[0,2].set_title(\"Beam density\")\n",
    "fig.suptitle(f\"Performance on Testing Piece {i}\", fontsize=12)\n",
    "fig.tight_layout()\n",
    "\n",
    "err1 =  np.sqrt( (criterion(result_test[i].cpu(), W_test[i])).cpu().detach().numpy() );\n",
    "err2 =  np.sqrt( (criterion2(result_test[i].cpu(), W_test[i])).cpu().detach().numpy() );\n",
    "reff_amp_s = np.max( np.abs( result_test[i,0].cpu().detach().numpy() ) )\n",
    "reff_amp_x = np.max( np.abs( result_test[i,1].cpu().detach().numpy() ) )\n",
    "print(f\"Max Ws amplitude is {reff_amp_s}\")\n",
    "print(f\"Max Wx amplitude is {reff_amp_x}\")\n",
    "print(f\"L_1-error is {err1:.3f}\")\n",
    "print(f\"L_2-error is {err2:.3f}\")"
   ]
  },
  {
   "cell_type": "code",
   "execution_count": null,
   "id": "80053a38-0fc3-4ae7-bf86-2c80971829d2",
   "metadata": {},
   "outputs": [],
   "source": []
  },
  {
   "cell_type": "code",
   "execution_count": null,
   "id": "29374e73-e834-4c08-8af3-5d868691d3ee",
   "metadata": {},
   "outputs": [],
   "source": []
  },
  {
   "cell_type": "code",
   "execution_count": null,
   "id": "bf8715f8-d697-4ec0-8dd6-b57c00a4dcd8",
   "metadata": {},
   "outputs": [],
   "source": []
  },
  {
   "cell_type": "code",
   "execution_count": null,
   "id": "7a6041bc-7c1a-4a41-b70d-e111c2c301d1",
   "metadata": {},
   "outputs": [],
   "source": []
  },
  {
   "cell_type": "markdown",
   "id": "a4d1b04e-a5d9-4fb1-a9ef-1cf46a62c649",
   "metadata": {},
   "source": [
    "## Now we evaluate the performance over the distribution"
   ]
  },
  {
   "cell_type": "code",
   "execution_count": null,
   "id": "aa4749fb-a5a7-4911-a0c9-6b3b4b957935",
   "metadata": {
    "tags": []
   },
   "outputs": [],
   "source": [
    "test_performance = np.array([ (criterion(result_test[i].cpu(), W_val[i])).cpu().detach().numpy() for i in range(len(result_test)) ])\n",
    "test_ref_amps = np.array([ np.max( np.abs( result_test[i,0].cpu().detach().numpy() ) ) + np.max( np.abs( result_test[i,1].cpu().detach().numpy() ) ) for i in range(len(result_test))])\n",
    "test_rel_performance = test_performance/(test_ref_amps)"
   ]
  },
  {
   "cell_type": "code",
   "execution_count": null,
   "id": "50182346-4efe-4680-930d-88924a5d2258",
   "metadata": {
    "tags": []
   },
   "outputs": [],
   "source": [
    "avg_test_performance = np.mean(test_performance);\n",
    "std_test_performance = np.mean(test_performance);\n",
    "norm_test_performance = (test_performance - avg_test_performance)/std_test_performance;"
   ]
  },
  {
   "cell_type": "code",
   "execution_count": null,
   "id": "3199b01d-527a-4303-8ad1-618d21103c84",
   "metadata": {
    "tags": []
   },
   "outputs": [],
   "source": [
    "plt.hist(norm_test_performance, 25, color = 'salmon');\n",
    "plt.xlabel(\"Relative L1 Loss (Normalized)\");\n",
    "plt.ylabel(\"Counts\");"
   ]
  },
  {
   "cell_type": "markdown",
   "id": "ed40607f-1220-4088-b798-74da9640be6c",
   "metadata": {},
   "source": [
    "## The best performers"
   ]
  },
  {
   "cell_type": "code",
   "execution_count": null,
   "id": "9bb5d56f-30c4-47d1-b179-0e0895809b9f",
   "metadata": {
    "tags": []
   },
   "outputs": [],
   "source": [
    "test_ace_inds = np.where(norm_test_performance < 0)[0];\n",
    "test_ace_inds;\n",
    "print(f\"There are {len(test_ace_inds)} test cases on which performance was better than average\")"
   ]
  },
  {
   "cell_type": "code",
   "execution_count": null,
   "id": "73acc537-3c7b-4504-b631-eca9a51f4e1b",
   "metadata": {
    "tags": []
   },
   "outputs": [],
   "source": [
    "ace_idx = [test_idx[j] for j in test_ace_inds];\n",
    "\n",
    "rho_aces = [rho_data[i] for i in ace_idx]\n",
    "\n",
    "fig, ax = plt.subplots(3,6, figsize = (16, 16))\n",
    "\n",
    "for i in range(3):\n",
    "    for j in range(6):\n",
    "        rho = rho_aces[3*i + j]\n",
    "        ax[i][j].imshow(rho[0,:,:])"
   ]
  },
  {
   "cell_type": "code",
   "execution_count": null,
   "id": "7e5d0a2a-130e-45a1-9301-c6ad251d7694",
   "metadata": {
    "tags": []
   },
   "outputs": [],
   "source": [
    "i = test_ace_inds[8]\n",
    "\n",
    "fig, ax = plt.subplots(2,3,figsize=(12,6))\n",
    "criterion2 = nn.MSELoss()\n",
    "#print(f\"Relative error is {100*err1/reff_amp_s:.2f} pct in s and {100*err1/reff_amp_x:.2f} pct. in x\")\n",
    "ax[0,0].imshow(result_test[i,0].cpu().detach().numpy(), aspect='auto', origin='lower')\n",
    "ax[1,0].imshow(result_test[i,1].cpu().detach().numpy(), aspect='auto', origin='lower')\n",
    "\n",
    "\n",
    "ax[0,1].imshow(W_test[i,0], aspect='auto', origin='lower')\n",
    "ax[1,1].imshow(W_test[i,1], aspect='auto', origin='lower')\n",
    "\n",
    "ax[0,0].set_title('Predicted Ws')\n",
    "ax[1,0].set_title('Predicted Wx')\n",
    "\n",
    "ax[0,1].set_title('True Ws')\n",
    "ax[1,1].set_title('True Wx')\n",
    "\n",
    "ax[0,2].imshow(rho_test[i,0].cpu().detach().numpy(), aspect='auto', origin='lower')\n",
    "ax[1,2].imshow(rho_test[i,0].cpu().detach().numpy(), aspect='auto', origin='lower')\n",
    "\n",
    "\n",
    "fig.suptitle(f\"Performance on Testing Piece {i}\", fontsize=12)\n",
    "fig.tight_layout()\n",
    "\n",
    "err1 =  np.sqrt( (criterion(result_test[i].cpu(), W_test[i])).cpu().detach().numpy() );\n",
    "err2 =  np.sqrt( (criterion2(result_test[i].cpu(), W_test[i])).cpu().detach().numpy() );\n",
    "reff_amp_s = np.max( np.abs( result_test[i,0].cpu().detach().numpy() ) )\n",
    "reff_amp_x = np.max( np.abs( result_test[i,1].cpu().detach().numpy() ) )\n",
    "print(f\"Max Ws amplitude is {reff_amp_s}\")\n",
    "print(f\"Max Wx amplitude is {reff_amp_x}\")\n",
    "print(f\"L_1-error is {err1:.3f}\")\n",
    "print(f\"L_2-error is {err2:.3f}\")"
   ]
  },
  {
   "cell_type": "code",
   "execution_count": null,
   "id": "03e86010-feba-48bc-b24e-034a4bbbaa54",
   "metadata": {
    "tags": []
   },
   "outputs": [],
   "source": [
    "rep_good_beam = np.mean([rho_test[ind,0] for ind in test_ace_inds], axis = 0)\n",
    "plt.imshow(rep_good_beam)\n",
    "plt.title(\"Average good beam\")"
   ]
  },
  {
   "cell_type": "markdown",
   "id": "cea3c55c-2284-4ed3-b6a9-45b0f8ea540e",
   "metadata": {},
   "source": [
    "## The worst performers"
   ]
  },
  {
   "cell_type": "code",
   "execution_count": null,
   "id": "1ebdd737-2a8f-4752-89cd-66a99acc84a1",
   "metadata": {
    "tags": []
   },
   "outputs": [],
   "source": [
    "test_fail_inds = np.where(norm_test_performance > 0)[0];\n",
    "print(f\"There are {len(test_fail_inds)} test cases on which performance was worse than average\")"
   ]
  },
  {
   "cell_type": "code",
   "execution_count": null,
   "id": "66613490-f71a-423f-a8b1-ff5aabdf6670",
   "metadata": {
    "tags": []
   },
   "outputs": [],
   "source": [
    "failure_idx = [test_idx[j] for j in test_fail_inds];\n",
    "\n",
    "rho_failures = [rho_data[i] for i in failure_idx]"
   ]
  },
  {
   "cell_type": "code",
   "execution_count": null,
   "id": "5ca71b43-e7d6-4ebb-9cca-f7540304c464",
   "metadata": {
    "tags": []
   },
   "outputs": [],
   "source": [
    "failure_idx = [test_idx[j] for j in test_fail_inds];\n",
    "\n",
    "rho_failures = [rho_data[i] for i in failure_idx]\n",
    "\n",
    "fig, ax = plt.subplots(3,6, figsize = (16, 16))\n",
    "\n",
    "for i in range(3):\n",
    "    for j in range(6):\n",
    "        rho = rho_failures[3*i + j]\n",
    "        ax[i][j].imshow(rho[0,:,:])"
   ]
  },
  {
   "cell_type": "code",
   "execution_count": null,
   "id": "8844fb10-2133-4473-9b07-aa34870e11c9",
   "metadata": {
    "tags": []
   },
   "outputs": [],
   "source": [
    "criterion( result_test[ind].cpu(), W_test[ind].cpu().detach().numpy() )"
   ]
  },
  {
   "cell_type": "code",
   "execution_count": null,
   "id": "d9a7f276-0048-4acb-99f9-1410e33673a5",
   "metadata": {
    "tags": []
   },
   "outputs": [],
   "source": [
    "[ print(f\"{(criterion(result_test[ind].cpu(), W_test[ind])).cpu().detach().numpy():.4f} error at {ind}\") for ind in test_ace_inds ]"
   ]
  },
  {
   "cell_type": "code",
   "execution_count": null,
   "id": "30c8ecc5-59bc-41e7-82f7-29912df45679",
   "metadata": {
    "tags": []
   },
   "outputs": [],
   "source": [
    "i = test_fail_inds[9]\n",
    "\n",
    "fig, ax = plt.subplots(2,3,figsize=(12,6))\n",
    "criterion2 = nn.MSELoss()\n",
    "#print(f\"Relative error is {100*err1/reff_amp_s:.2f} pct in s and {100*err1/reff_amp_x:.2f} pct. in x\")\n",
    "ax[0,0].imshow(result_test[i,0].cpu().detach().numpy(), aspect='auto', origin='lower')\n",
    "ax[1,0].imshow(result_test[i,1].cpu().detach().numpy(), aspect='auto', origin='lower')\n",
    "\n",
    "\n",
    "ax[0,1].imshow(W_test[i,0], aspect='auto', origin='lower')\n",
    "ax[1,1].imshow(W_test[i,1], aspect='auto', origin='lower')\n",
    "\n",
    "ax[0,0].set_title('Predicted Ws')\n",
    "ax[1,0].set_title('Predicted Wx')\n",
    "ax[0,1].set_title('True Ws')\n",
    "ax[1,1].set_title('True Wx')\n",
    "\n",
    "ax[0,2].imshow(rho_test[i,0].cpu().detach().numpy(), aspect='auto', origin='lower')\n",
    "ax[1,2].imshow(rho_test[i,0].cpu().detach().numpy(), aspect='auto', origin='lower')\n",
    "\n",
    "\n",
    "fig.suptitle(f\"Performance on Testing Piece {i}\", fontsize=12)\n",
    "fig.tight_layout()\n",
    "\n",
    "err1 =   (criterion(result_test[i].cpu(), W_test[i])).cpu().detach().numpy() ;\n",
    "err2 =  np.sqrt( (criterion2(result_test[i].cpu(), W_test[i])).cpu().detach().numpy() );\n",
    "reff_amp_s = np.max( np.abs( result_test[i,0].cpu().detach().numpy() ) )\n",
    "reff_amp_x = np.max( np.abs( result_test[i,1].cpu().detach().numpy() ) )\n",
    "print(f\"Max Ws amplitude is {reff_amp_s}\")\n",
    "print(f\"Max Wx amplitude is {reff_amp_x}\")\n",
    "print(f\"L_1-error is {err1:.3f}\")\n",
    "print(f\"L_2-error is {err2:.3f}\")"
   ]
  },
  {
   "cell_type": "code",
   "execution_count": null,
   "id": "04f6180a-e3c7-4a84-aa2f-c2ea9b155489",
   "metadata": {
    "tags": []
   },
   "outputs": [],
   "source": [
    "rep_bad_beam = np.mean([rho_test[ind,0] for ind in test_fail_inds], axis = 0)\n",
    "plt.imshow(rep_bad_beam)\n",
    "plt.title(\"Average bad beam\")"
   ]
  },
  {
   "cell_type": "code",
   "execution_count": null,
   "id": "1046d1bb-344b-4371-b1fa-56011ca192fb",
   "metadata": {
    "tags": []
   },
   "outputs": [],
   "source": [
    "plt.hist(100*test_rel_performance, 30, color = 'salmon');\n",
    "plt.xlabel(\"L1 Loss on Wakes (pct)\");\n",
    "plt.ylabel(\"Counts\");"
   ]
  },
  {
   "cell_type": "markdown",
   "id": "464f12dd-165d-4f88-b9d1-d8c3e0e780e6",
   "metadata": {},
   "source": [
    "## Save these weights somewhere safe"
   ]
  },
  {
   "cell_type": "code",
   "execution_count": null,
   "id": "fba87d26-bdab-4dbf-854b-a65b2254dbf5",
   "metadata": {
    "tags": []
   },
   "outputs": [],
   "source": [
    "torch.save(csr2d_model.state_dict(), 'good_state_04-30-2024_500_epochs')"
   ]
  },
  {
   "cell_type": "code",
   "execution_count": null,
   "id": "39b2f8c2-5382-4fac-af9a-65021335927e",
   "metadata": {
    "tags": []
   },
   "outputs": [],
   "source": [
    "csr2d_model.eval();"
   ]
  },
  {
   "cell_type": "code",
   "execution_count": null,
   "id": "285ecded-b105-4753-ab2f-f7c7f6320109",
   "metadata": {
    "tags": []
   },
   "outputs": [],
   "source": [
    "from mpl_toolkits.mplot3d import Axes3D  \n",
    "i = 33\n",
    "\n",
    "fig = plt.figure()\n",
    "ax = fig.add_subplot(111, projection='3d')\n",
    "x = np.arange(128)\n",
    "y = np.arange(256)\n",
    "X, Y = np.meshgrid(x, y)\n",
    "Z1 = result_test[i,0].cpu().detach().numpy()\n",
    "\n",
    "ax.plot_surface(X, Y, Z1, cmap=plt.cm.hot, alpha=1, rstride=1, cstride=1)\n",
    "ax.view_init(20, -30)"
   ]
  },
  {
   "cell_type": "code",
   "execution_count": null,
   "id": "c4879e5c-175f-429d-b5e0-f1c2584d5ef4",
   "metadata": {
    "tags": []
   },
   "outputs": [],
   "source": [
    "fig = plt.figure()\n",
    "ax = fig.add_subplot(111, projection='3d')\n",
    "x = np.arange(128)\n",
    "y = np.arange(256)\n",
    "X, Y = np.meshgrid(x, y)\n",
    "Z2 =  W_test[i,0]\n",
    "ax.plot_surface(X, Y, Z2, cmap=plt.cm.winter, alpha=1, rstride=1, cstride=1)\n",
    "ax.view_init(20, -30)"
   ]
  },
  {
   "cell_type": "code",
   "execution_count": null,
   "id": "0171ac99-36ec-4fb3-b16e-48204ff4da00",
   "metadata": {
    "tags": []
   },
   "outputs": [],
   "source": [
    "fig = plt.figure()\n",
    "ax = fig.add_subplot(111, projection='3d')\n",
    "x = np.arange(128)\n",
    "y = np.arange(256)\n",
    "X, Y = np.meshgrid(x, y)\n",
    "Z3=  abs(Z2 - Z1)\n",
    "ax.plot_surface(X, Y, Z3, cmap=plt.cm.winter, alpha=1, rstride=1, cstride=1)\n",
    "ax.view_init(20, -30)"
   ]
  },
  {
   "cell_type": "code",
   "execution_count": null,
   "id": "61708fc7-7cd9-40da-b7c3-362722026bfc",
   "metadata": {
    "tags": []
   },
   "outputs": [],
   "source": []
  },
  {
   "cell_type": "markdown",
   "id": "61adf6b0-85be-4524-bfaa-162aed53ffac",
   "metadata": {},
   "source": [
    "## Check wake s dependence"
   ]
  },
  {
   "cell_type": "code",
   "execution_count": null,
   "id": "82fe90df-adee-447f-8fa8-84e394e4e86b",
   "metadata": {
    "tags": []
   },
   "outputs": [],
   "source": [
    "def load_step_s_check(file, directory = '/global/cfs/cdirs/m669/riverr/2DCSR/check_wake_s_dependence/', emit = False): # load one step from a simulation file \n",
    "    file_name = directory + f'/{file}';#f'2DCSR_NN_lucretia/{file}'\n",
    "    #print(file_name)\n",
    "    h5 = h5py.File(file_name, 'r');\n",
    "\n",
    "    result = h5['csr_result'];\n",
    "    \n",
    "    #print(result.keys())\n",
    "    nz, nx = np.array(result[\"Ws_grid\"]).T.shape ## number of grid points in z and x for wakes \n",
    "    nz_cg, nx_cg = np.array(result[\"lambda_grid\"]).T.shape ## number of grid points in z and x for beam density \n",
    "    ## lambda and rho both refer to beam density\n",
    "    zmin = min(result[\"zmin\"]); ## minimum z coordinate\n",
    "    zmax = max(result[\"zmin\"]);\n",
    "    xmin = min(result[\"xv\"]);\n",
    "    xmax = max(result[\"xv\"]);\n",
    "\n",
    "    zv = np.linspace(zmin, zmax, nz);\n",
    "    xv = np.linspace(xmin, xmax, nx);\n",
    "\n",
    "    zv_cg = np.linspace(zmin, zmax, nz_cg);\n",
    "    xv_cg = np.linspace(xmin, xmax, nx_cg);\n",
    "\n",
    "    Ws_grid = np.array(result[\"Ws_grid\"]).T;\n",
    "    Wx_grid = np.array(result[\"Wx_grid\"]).T;\n",
    "    lambda_grid = np.array(result[\"lambda_grid\"]).T;\n",
    "        \n",
    "    return xv, zv, Ws_grid, Wx_grid, lambda_grid, s;"
   ]
  },
  {
   "cell_type": "code",
   "execution_count": null,
   "id": "08325b2a-c732-4634-b1c1-0f79d7aa1335",
   "metadata": {},
   "outputs": [],
   "source": []
  },
  {
   "cell_type": "code",
   "execution_count": null,
   "id": "99f7109b-e274-4707-9c11-ed77eeaba7b2",
   "metadata": {
    "tags": []
   },
   "outputs": [],
   "source": [
    "counter = 0\n",
    "for j, file in enumerate(os.listdir('/global/cfs/cdirs/m669/riverr/2DCSR/check_wake_s_dependence/')):\n",
    "    #if j % 6 == 0:\n",
    "    #    print(j)\n",
    "    if file.startswith('result_P1_-20_P2_-38.35_'):\n",
    "        print(file)\n",
    "        xv, zv, Ws, Wx, rho, s = load_step_s_check(file)\n",
    "        Ws = Ws[:-1,:-1]\n",
    "        Wx = Wx[:-1,:-1]\n",
    "        rho = rho[:]\n",
    "\n",
    "        dx = np.mean(np.diff(xv))\n",
    "        dz = np.mean(np.diff(zv))\n",
    "\n",
    "        s = float(file[-6:-3])\n",
    "\n",
    "        if (counter == 0):\n",
    "            Ws_data_s_check = [Ws]\n",
    "            Wx_data_s_check = [Wx]\n",
    "            rho_data_s_check = [rho*dx*dz] ## note: rho is normalized to have sum of unity \n",
    "            dx_data_s_check = [dx]\n",
    "            dz_data_s_check = [dz]\n",
    "            s_data_s_check = [s]\n",
    "        else:\n",
    "            Ws_data_s_check = np.concatenate(([Ws], Ws_data_s_check))\n",
    "            Wx_data_s_check = np.concatenate(([Wx], Wx_data_s_check))\n",
    "            rho_data_s_check = np.concatenate(([rho*dx*dz], rho_data_s_check)) ## note: rho is normalized to have sum of unity \n",
    "            dx_data_s_check = np.concatenate(([dx], dx_data_s_check))\n",
    "            dz_data_s_check = np.concatenate(([dz], dz_data_s_check))\n",
    "            s_data_s_check = np.concatenate(([s], s_data_s_check))\n",
    "\n",
    "        counter += 1"
   ]
  },
  {
   "cell_type": "code",
   "execution_count": null,
   "id": "81caf4a3-c76f-47e4-9419-ae5adeb9bbb1",
   "metadata": {
    "tags": []
   },
   "outputs": [],
   "source": [
    "Wx_data_s_check.shape\n",
    "\n",
    "idx = np.argsort(s_data_s_check)\n",
    "Ws_data_s_check = Ws_data_s_check[idx]\n",
    "Wx_data_s_check = Wx_data_s_check[idx]\n",
    "s_data_s_check = s_data_s_check[idx]\n",
    "dx_data_s_check = dx_data_s_check[idx]\n",
    "dz_data_s_check = dz_data_s_check[idx]"
   ]
  },
  {
   "cell_type": "code",
   "execution_count": null,
   "id": "4b71b090-176c-46bc-bc3c-6160be12dffa",
   "metadata": {
    "tags": []
   },
   "outputs": [],
   "source": [
    "### NOTE: resize_transform does not preserve the sum of the arrays over the grid. Thus we multiply by (100*200/(256*128))                \n",
    "## when we resize back later on, we should multiply by the inverse factor \n",
    "\n",
    "Ws_data_s_check = torch.tensor(Ws_data_s_check)\n",
    "Ws_data_s_check = (100*200/(256*128))*resize_transform(Ws_data_s_check)\n",
    "Ws_data_s_check = torch.unsqueeze(Ws_data_s_check, dim=1)\n",
    "\n",
    "Wx_data_s_check = torch.tensor(Wx_data_s_check)\n",
    "Wx_data_s_check = (100*200/(256*128))*resize_transform(Wx_data_s_check)\n",
    "Wx_data_s_check = torch.unsqueeze(Wx_data_s_check, dim=1)\n",
    "\n",
    "rho_data_s_check = torch.tensor(rho_data_s_check)\n",
    "rho_data_s_check = (100*200/(256*128))*resize_transform(rho_data_s_check)\n",
    "rho_data_s_check = torch.unsqueeze(rho_data_s_check, dim=1)\n",
    "\n",
    "dx_data_s_check = torch.tensor(dx_data_s_check)\n",
    "dx_data_s_check = torch.unsqueeze(dx_data_s_check, dim=1)\n",
    "dz_data_s_check = torch.tensor(dz_data_s_check)\n",
    "dz_data_s_check = torch.unsqueeze(dz_data_s_check, dim=1)\n",
    "s_data_s_check = torch.tensor(s_data_s_check)\n",
    "s_data_s_check = torch.unsqueeze(s_data_s_check, dim=1)\n",
    "\n",
    "#Ws_norm = torch.max(Ws_data_s_check)\n",
    "#Wx_norm = torch.max(Wx_data_s_check)\n",
    "#s_norm = torch.max(s_data_s_check)\n",
    "\n",
    "Ws_data_s_check /= Ws_norm ## normalize to maximum Ws in dataset \n",
    "Wx_data_s_check /= Wx_norm ## normalize to maximum Wx in dataset\n",
    "s_data_s_check /= s_norm ## normalize to maximum s in dataset \n",
    "dz_data_s_check /= dz_norm \n",
    "dx_data_s_check /= dx_norm"
   ]
  },
  {
   "cell_type": "code",
   "execution_count": null,
   "id": "417b8ad6-7c7c-431d-a233-a43682072b3d",
   "metadata": {
    "tags": []
   },
   "outputs": [],
   "source": [
    "Ws_data_s_check = Ws_data_s_check.to(torch.float32)\n",
    "Wx_data_s_check = Wx_data_s_check.to(torch.float32)\n",
    "rho_data_s_check = rho_data_s_check.to(torch.float32)\n",
    "s_data_s_check = s_data_s_check.to(torch.float32)\n",
    "dz_data_s_check = dz_data_s_check.to(torch.float32)\n",
    "dx_data_s_check = dx_data_s_check.to(torch.float32)"
   ]
  },
  {
   "cell_type": "code",
   "execution_count": null,
   "id": "706f477c-4915-44f1-953e-845f62e762b1",
   "metadata": {
    "tags": []
   },
   "outputs": [],
   "source": [
    "## two-dimensional W array \n",
    "W_data_s_check = torch.cat((Ws_data_s_check, Wx_data_s_check), dim=1)\n",
    "scalar_data_s_check = torch.cat((s_data_s_check, dz_data_s_check, dx_data_s_check), dim=1)"
   ]
  },
  {
   "cell_type": "code",
   "execution_count": null,
   "id": "f97c16e5-8a29-4278-a8c6-8fe81a1c6b94",
   "metadata": {
    "tags": []
   },
   "outputs": [],
   "source": [
    "output_s_check =csr2d_model([rho_data_s_check.to(curr_device), scalar_data_s_check.to(curr_device)])"
   ]
  },
  {
   "cell_type": "code",
   "execution_count": null,
   "id": "a5aae5b2-047b-45e3-94af-ee6f46d19936",
   "metadata": {
    "tags": []
   },
   "outputs": [],
   "source": [
    "\n",
    "fig, ax = plt.subplots(2,11,figsize=(15,4), sharey=True)\n",
    "\n",
    "for i in range(W_data_s_check.size(0)):\n",
    "    ax[0,i].imshow(W_data_s_check[i,0].cpu().detach().numpy(), aspect='auto', origin='lower')\n",
    "    ax[1,i].imshow(output_s_check[i,0].cpu().detach().numpy(), aspect='auto', origin='lower')\n",
    "    ax[0,i].set_title(f's={s_data_s_check[i].detach().numpy().mean()*s_norm:.2f} m')\n",
    "ax[0,0].set_ylabel('True Ws')\n",
    "ax[1,0].set_ylabel('Predicted Ws')"
   ]
  },
  {
   "cell_type": "code",
   "execution_count": null,
   "id": "de9ee32c-f15c-45d0-9f77-0bbf5b325693",
   "metadata": {
    "tags": []
   },
   "outputs": [],
   "source": [
    "### fig, ax = plt.subplots(2,11,figsize=(15,4), sharey=True)\n",
    "\n",
    "for i in range(W_data_s_check.size(0)):\n",
    "    ax[0,i].imshow(W_data_s_check[i,1].cpu().detach().numpy(), aspect='auto', origin='lower')\n",
    "    ax[1,i].imshow(output_s_check[i,1].cpu().detach().numpy(), aspect='auto', origin='lower')\n",
    "    ax[0,i].set_title(f's={s_data_s_check[i].detach().numpy().mean()*s_norm:.2f} m')\n",
    "ax[0,0].set_ylabel('True Wx')\n",
    "ax[1,0].set_ylabel('Predicted Wx')\n",
    "plt.show()"
   ]
  },
  {
   "cell_type": "code",
   "execution_count": null,
   "id": "7bbff2c5-fd9e-4301-9c4e-1d360368f5a8",
   "metadata": {
    "tags": []
   },
   "outputs": [],
   "source": []
  },
  {
   "cell_type": "markdown",
   "id": "592a534d-1a19-406a-821a-890f505a8d89",
   "metadata": {},
   "source": [
    "# Reasonable version March 19th, 2024"
   ]
  },
  {
   "cell_type": "code",
   "execution_count": null,
   "id": "b444bec1-c4af-4ab6-91cf-bbfef83192b6",
   "metadata": {},
   "outputs": [],
   "source": [
    "#torch.save(csr2d_model.state_dict(), 'good_state_April202024')"
   ]
  },
  {
   "cell_type": "code",
   "execution_count": null,
   "id": "d69e77da-1b8a-4887-913b-3c6c621ca408",
   "metadata": {},
   "outputs": [],
   "source": [
    "class CSR2D(nn.Module):\n",
    "    def __init__(self):\n",
    "        super(CSR2D, self).__init__()\n",
    "\n",
    "        encoding_dim = 16 # length of 1D beam density image representation\n",
    "        \n",
    "        num_conv = 5 # number of convolutional layers in encoder\n",
    "        nfilters = 32 # number of \"matrices\" in a single convolutional layer \n",
    "        kernel_sizes = (3, 7) # each size is the size of one side of the convolution matrix, we are applying two matrices here \n",
    "        pool_size = 2 # factor by which we reduce the image size on each conv layer \n",
    "        activation = nn.ReLU() # activation function for the conv layers\n",
    "        \n",
    "        encoder_layers = []\n",
    "        \n",
    "        for i in range(num_conv):\n",
    "            for j, kernel_size in enumerate(kernel_sizes):\n",
    "                if (i == 0) and (j == 0):\n",
    "                    encoder_layers.append(nn.Conv2d(1, nfilters, kernel_size, padding=kernel_size//2))\n",
    "                else:\n",
    "                    encoder_layers.append(nn.Conv2d(nfilters, nfilters, kernel_size, padding=kernel_size//2))\n",
    "                encoder_layers.append(nn.BatchNorm2d(nfilters))\n",
    "                encoder_layers.append(activation)\n",
    "            #encoder_layers.append(nn.BatchNorm2d(nfilters))\n",
    "            encoder_layers.append(nn.MaxPool2d(pool_size))\n",
    "        \n",
    "        encoder_layers.append(nn.Flatten())\n",
    "        encoder_layers.append(nn.Linear(int(nfilters * 256/2**num_conv * 128/2**num_conv), encoding_dim))\n",
    "        encoder_layers.append(activation)\n",
    "        \n",
    "        self.encoder = nn.Sequential(*encoder_layers)\n",
    "        \n",
    "        num_dense = 2 # number of dense layers before the resizing dense layer  \n",
    "        small_dim_power2 = 4 # size of image output from dense network is 2**(this) x 2**(this+1)\n",
    "        num_units = 200 # number of nodes in intermediate dense layers \n",
    "        activation = nn.ReLU()\n",
    "        \n",
    "        dense_layers = []\n",
    "        \n",
    "        dense_layers.append(nn.Linear(encoding_dim + 3, num_units)) ## encoding_dim + number of scalar parameters \n",
    "        dense_layers.append(activation)\n",
    "        \n",
    "        for _ in range(num_dense - 1):\n",
    "            dense_layers.append(nn.Linear(num_units, num_units))\n",
    "            dense_layers.append(activation)\n",
    "        \n",
    "        dense_layers.append(nn.Linear(num_units, 2**(2*small_dim_power2+1)))\n",
    "        dense_layers.append(activation)\n",
    "        dense_layers.append(nn.Unflatten(1, (1,2*2**small_dim_power2, 2**small_dim_power2) )   );\n",
    "\n",
    "        self.intermediate = nn.Sequential(*dense_layers)\n",
    "        \n",
    "        decoder_layers = []\n",
    "        num_deconv = 7 - small_dim_power2\n",
    "        \n",
    "        nfilters = 32\n",
    "        kernel_sizes = [3, 7]\n",
    "        pool_size = 2\n",
    "        activation = nn.ReLU()\n",
    "        \n",
    "        for i in range(num_deconv):\n",
    "            for j, kernel_size in enumerate(kernel_sizes):\n",
    "                if (i == 0) and (j == 0): \n",
    "                    decoder_layers.append(nn.ConvTranspose2d(1, nfilters, kernel_size, stride=1, padding=kernel_size//2, output_padding=0))\n",
    "                else:\n",
    "                    decoder_layers.append(nn.ConvTranspose2d(nfilters, nfilters, kernel_size, stride=1, padding=kernel_size//2, output_padding=0))\n",
    "                decoder_layers.append(nn.BatchNorm2d(nfilters))\n",
    "                decoder_layers.append(activation)\n",
    "            #decoder_layers.append(nn.BatchNorm2d(nfilters))\n",
    "            decoder_layers.append(nn.Upsample(scale_factor=2, mode='bilinear'))\n",
    "        \n",
    "        decoder_layers.append(nn.Conv2d(nfilters, 2, kernel_size=1, padding=0)) # linear activation is necessary if our network needs to give negative numbers\n",
    "        \n",
    "        self.decoder = nn.Sequential(*decoder_layers)\n",
    "\n",
    "    def _initialize_weights(self):\n",
    "        for m in self.modules():\n",
    "            if isinstance(m, nn.Conv2d) or isinstance(m, nn.ConvTranspose2d):\n",
    "                nn.init.kaiming_normal_(m.weight, mode='fan_out', nonlinearity='relu')\n",
    "                if m.bias is not None:\n",
    "                    nn.init.constant_(m.bias, 0)\n",
    "            elif isinstance(m, nn.BatchNorm2d):\n",
    "                nn.init.constant_(m.weight, 1)\n",
    "                nn.init.constant_(m.bias, 0)\n",
    "\n",
    "    def forward(self, img_inputs):\n",
    "        scalar_inputs = img_inputs[1]\n",
    "        img_inputs = img_inputs[0]\n",
    "        encoded_flattened = self.encoder(img_inputs)\n",
    "        concatenated = torch.cat((encoded_flattened, scalar_inputs), dim=1)\n",
    "        afterNN = self.intermediate(concatenated)\n",
    "        decoded = self.decoder(afterNN) # Reshape to match the input size of decoder\n",
    "        return decoded"
   ]
  },
  {
   "cell_type": "code",
   "execution_count": null,
   "id": "1de752e8-937a-4fe9-886b-1572bbae88f9",
   "metadata": {},
   "outputs": [],
   "source": [
    "#with h5py.File(\"normalizations_March192024.h5\", 'w') as f:\n",
    "#    f['Ws_norm'] = Ws_norm\n",
    "#    f['Wx_norm'] = Wx_norm\n",
    "#    f['dx_norm'] = dx_norm\n",
    "#    f['dz_norm'] = dz_norm\n",
    "#    f['s_norm'] = s_norm"
   ]
  },
  {
   "cell_type": "code",
   "execution_count": null,
   "id": "c7a2648d-6353-413b-bc1b-7850289db34f",
   "metadata": {},
   "outputs": [],
   "source": [
    "#csr2d_model = CSR2D()\n",
    "#csr2d_model.to(curr_device)\n",
    "\n",
    "#basedir = '/global/u1/r/riverr/2DCSR/Modify network inputs and loss function/'\n",
    "#csr2d_model.load_state_dict(torch.load(f'/good_state_March192024', map_location=torch.device('cpu')))#, map_location='cpu', weights_only=True))"
   ]
  },
  {
   "cell_type": "code",
   "execution_count": null,
   "id": "0caae90e-eb03-49f2-b08d-cd79b9cc818f",
   "metadata": {
    "tags": []
   },
   "outputs": [],
   "source": [
    "with h5py.File(f'{basedir}/normalizations_March192024.h5', 'r') as f:\n",
    "    Ws_norm = np.array(f['Ws_norm'])\n",
    "    Wx_norm = np.array(f['Wx_norm'])\n",
    "    dx_norm = np.array(f['dx_norm'])\n",
    "    dz_norm = np.array(f['dz_norm'])\n",
    "    s_norm = np.array(f['s_norm'])"
   ]
  },
  {
   "cell_type": "code",
   "execution_count": null,
   "id": "2b019485-2f4f-40f8-b4b0-18c6edf2b273",
   "metadata": {
    "tags": []
   },
   "outputs": [],
   "source": [
    "def load_step(file, n_step, directory = tracking_results_direc, emit = False): # load one step from a simulation file \n",
    "    file_name = directory + f'/{file}';#f'2DCSR_NN_lucretia/{file}'\n",
    "    #print(file_name)\n",
    "    h5 = h5py.File(file_name, 'r');\n",
    "\n",
    "    result = h5['csr_result'];\n",
    "    #print(result.keys())\n",
    "    nz, nx = result[\"Ws_grid_list\"][n_step].T.shape ## number of grid points in z and x for wakes \n",
    "    nz_cg, nx_cg = result[\"lambda_grid_list\"][n_step].T.shape ## number of grid points in z and x for beam density \n",
    "    ## lambda and rho both refer to beam density\n",
    "    zmin = result[\"zmin_list\"][n_step]; ## minimum z coordinate\n",
    "    zmax = result[\"zmax_list\"][n_step];\n",
    "    xmin = result[\"xmin_list\"][n_step];\n",
    "    xmax = result[\"xmax_list\"][n_step];\n",
    "\n",
    "    zv = np.linspace(zmin, zmax, nz);\n",
    "    xv = np.linspace(xmin, xmax, nx);\n",
    "\n",
    "    zv_cg = np.linspace(zmin, zmax, nz_cg);\n",
    "    xv_cg = np.linspace(xmin, xmax, nx_cg);\n",
    "\n",
    "    Ws_grid = result[\"Ws_grid_list\"][n_step].T;\n",
    "    Wx_grid = result[\"Wx_grid_list\"][n_step].T;\n",
    "    lambda_grid = result[\"lambda_grid_list\"][n_step].T;\n",
    "\n",
    "    s = np.array(result[\"s_at_kick_list\"])[n_step];\n",
    "    if emit:\n",
    "        epsx = np.array(result[\"emit_at_kick_list\"])[n_step];\n",
    "        epsx_0 = np.array(result[\"emit_disp_free_at_kick_list\"])[n_step];\n",
    "        return xv, zv, Ws_grid, Wx_grid, lambda_grid, s, epsx, epsx_0 ;\n",
    "    else:\n",
    "        \n",
    "        return xv, zv, Ws_grid, Wx_grid, lambda_grid, s;"
   ]
  },
  {
   "cell_type": "code",
   "execution_count": null,
   "id": "0cba3ba0-24b4-42ac-b13b-3cff7845dfe1",
   "metadata": {
    "tags": []
   },
   "outputs": [],
   "source": [
    "ns = np.arange(20) # 20 steps per simulation \n",
    "\n",
    "for j, file in enumerate(os.listdir(tracking_results_direc)):\n",
    "    if j == 1:\n",
    "        break\n",
    "    if file.startswith('result'):\n",
    "        for i, n in enumerate(ns):\n",
    "            xv, zv, Ws, Wx, rho, s = load_step(file, n)\n",
    "            Ws = Ws[:-1,:-1]\n",
    "            Wx = Wx[:-1,:-1]\n",
    "            rho = rho[:]\n",
    "\n",
    "            dx = np.mean(np.diff(xv))\n",
    "            dz = np.mean(np.diff(zv))\n",
    "\n",
    "            if (i == 0) & (j == 0):\n",
    "                Ws_data = [Ws]\n",
    "                Wx_data = [Wx]\n",
    "                rho_data = [rho*dx*dz] ## note: rho is normalized to have sum of unity \n",
    "                dx_data = [dx]\n",
    "                dz_data = [dz]\n",
    "                s_data = [s]\n",
    "            else:\n",
    "                Ws_data = np.concatenate(([Ws], Ws_data))\n",
    "                Wx_data = np.concatenate(([Wx], Wx_data))\n",
    "                rho_data = np.concatenate(([rho*dx*dz], rho_data)) ## note: rho is normalized to have sum of unity \n",
    "                dx_data = np.concatenate(([dx], dx_data))\n",
    "                dz_data = np.concatenate(([dz], dz_data))\n",
    "                s_data = np.concatenate(([s], s_data))\n"
   ]
  },
  {
   "cell_type": "code",
   "execution_count": null,
   "id": "f3b5bba0-e3ee-4375-9393-1ec01bac437d",
   "metadata": {
    "tags": []
   },
   "outputs": [],
   "source": [
    "rho_data = torch.tensor(np.array(rho_data))\n",
    "rho_data = 100*200/(128*256)*resize_transform(rho_data)\n",
    "rho_data = torch.unsqueeze(rho_data, dim=1)\n",
    "\n",
    "dx_data = torch.tensor(np.array(dx_data))\n",
    "dx_data = torch.unsqueeze(dx_data, dim=1)\n",
    "dz_data = torch.tensor(np.array(dz_data))\n",
    "dz_data = torch.unsqueeze(dz_data, dim=1)\n",
    "s_data = torch.tensor(np.array(s_data))\n",
    "s_data = torch.unsqueeze(s_data, dim=1)\n",
    "\n",
    "s_data /= s_norm ## normalize to maximum s in dataset \n",
    "dz_data /= dz_norm ## normalize dz to maximum dz in dataset \n",
    "dx_data /= dx_norm"
   ]
  },
  {
   "cell_type": "code",
   "execution_count": null,
   "id": "ca8dddfd-0e42-464a-8266-f1ca503abbc0",
   "metadata": {
    "tags": []
   },
   "outputs": [],
   "source": [
    "plt.imshow(rho_data.detach().numpy()[0][0], aspect='auto')\n",
    "plt.colorbar()"
   ]
  },
  {
   "cell_type": "code",
   "execution_count": null,
   "id": "b9f77619-de1f-454d-a12f-411087fec0a9",
   "metadata": {
    "tags": []
   },
   "outputs": [],
   "source": [
    "scalars = torch.cat((s_data,dx_data,dz_data),dim=1)"
   ]
  },
  {
   "cell_type": "code",
   "execution_count": null,
   "id": "fb9e74b9-41c2-49a3-919e-fc562759a22f",
   "metadata": {
    "tags": []
   },
   "outputs": [],
   "source": [
    "rho_data = rho_data.to(torch.float32)\n",
    "scalars = scalars.to(torch.float32)"
   ]
  },
  {
   "cell_type": "code",
   "execution_count": null,
   "id": "5dee7b76-c79c-4d53-80d5-03dbc26bf04e",
   "metadata": {
    "tags": []
   },
   "outputs": [],
   "source": [
    "Ws_norm.mean()"
   ]
  },
  {
   "cell_type": "code",
   "execution_count": null,
   "id": "57c319d3-5487-4d31-af3a-4249acb8b224",
   "metadata": {
    "tags": []
   },
   "outputs": [],
   "source": [
    "csr2d_model.eval()\n",
    "out = csr2d_model([rho_data, scalars])\n",
    "out[:,0,:,:] *= Ws_norm.mean()\n",
    "out[:,1,:,:] *= Wx_norm.mean()\n",
    "resized_out = 128*256 / (101*201) * inverse_resize_transform(out)"
   ]
  },
  {
   "cell_type": "code",
   "execution_count": null,
   "id": "0b76e7ba-971f-4659-b070-5fc0d5ce7885",
   "metadata": {
    "tags": []
   },
   "outputs": [],
   "source": [
    "out.shape"
   ]
  },
  {
   "cell_type": "code",
   "execution_count": null,
   "id": "30867fbb-390d-408d-b8fd-8f7d9d58e7e1",
   "metadata": {
    "tags": []
   },
   "outputs": [],
   "source": [
    "out.cpu().detach().numpy().shape"
   ]
  },
  {
   "cell_type": "code",
   "execution_count": null,
   "id": "fa2784c4-53fb-421b-94de-7e712adf5b83",
   "metadata": {
    "tags": []
   },
   "outputs": [],
   "source": [
    "Ws = resized_out.cpu().detach().numpy()[0,0]\n",
    "Wx = resized_out.cpu().detach().numpy()[0,1]"
   ]
  },
  {
   "cell_type": "code",
   "execution_count": null,
   "id": "8e5cc740-cdda-4f59-96d0-84324a52d0e4",
   "metadata": {
    "tags": []
   },
   "outputs": [],
   "source": [
    "plt.imshow(Ws)\n",
    "plt.show()\n",
    "plt.imshow(Wx)"
   ]
  },
  {
   "cell_type": "code",
   "execution_count": null,
   "id": "a4a4c77a-18b8-4536-80de-a6c8f6da0cbc",
   "metadata": {},
   "outputs": [],
   "source": []
  },
  {
   "cell_type": "code",
   "execution_count": null,
   "id": "f013052b-0287-4825-9535-370c1770628a",
   "metadata": {},
   "outputs": [],
   "source": []
  },
  {
   "cell_type": "code",
   "execution_count": null,
   "id": "df5c67cb-45d8-45e2-8900-50ed6ad83733",
   "metadata": {},
   "outputs": [],
   "source": []
  }
 ],
 "metadata": {
  "kernelspec": {
   "display_name": "MyEnvironment",
   "language": "python",
   "name": "myenv"
  },
  "language_info": {
   "codemirror_mode": {
    "name": "ipython",
    "version": 3
   },
   "file_extension": ".py",
   "mimetype": "text/x-python",
   "name": "python",
   "nbconvert_exporter": "python",
   "pygments_lexer": "ipython3",
   "version": "3.11.7"
  }
 },
 "nbformat": 4,
 "nbformat_minor": 5
}
